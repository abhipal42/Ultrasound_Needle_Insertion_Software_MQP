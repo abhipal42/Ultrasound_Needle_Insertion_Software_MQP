{
 "cells": [
  {
   "cell_type": "markdown",
   "metadata": {},
   "source": [
    "Importing Libraries"
   ]
  },
  {
   "cell_type": "code",
   "execution_count": 1,
   "metadata": {},
   "outputs": [
    {
     "name": "stdout",
     "output_type": "stream",
     "text": [
      "Num GPUs Available:  1\n",
      "tensorflow version: 2.10.0\n"
     ]
    }
   ],
   "source": [
    "import cv2\n",
    "import time \n",
    "\n",
    "import tensorflow as tf\n",
    "import os\n",
    "import shutil\n",
    "import numpy as np\n",
    "import random\n",
    "from tqdm import tqdm\n",
    "from skimage.io import imread, imshow\n",
    "from skimage.transform import resize\n",
    "import matplotlib.pyplot as plt\n",
    "from pathlib import Path\n",
    "import re\n",
    "import cv2\n",
    "from keras import backend as K\n",
    "tf.__version__\n",
    "import glob\n",
    "\n",
    "#check if tensorflow gpu is being used\n",
    "print(\"Num GPUs Available: \", len(tf.config.list_physical_devices('GPU')))\n",
    "print(\"tensorflow version:\", tf.__version__)"
   ]
  },
  {
   "cell_type": "markdown",
   "metadata": {},
   "source": [
    "Background Subtraction"
   ]
  },
  {
   "cell_type": "code",
   "execution_count": 9,
   "metadata": {},
   "outputs": [],
   "source": [
    "#Background Subtraction\n",
    "#reference: https://www.geeksforgeeks.org/python-background-subtraction-using-opencv/?ref=lbp, \n",
    "#Image blurring reference: https://www.geeksforgeeks.org/python-image-blurring-using-opencv/ \n",
    "\n",
    "\n",
    "#videos to choose from\n",
    "NeedleViz_path1 = 'Data/edited data/102622_Water.mp4'\n",
    "NeedleViz_path2 = 'Data/edited data/102822_Water.mp4'\n",
    "\n",
    "#control playback speed\n",
    "frame_rate = 25\n",
    "\n",
    "# vc = cv2.VideoCapture(0) #opens camera\n",
    "vc = cv2.VideoCapture(NeedleViz_path1)\n",
    "\n",
    "fgbg = cv2.createBackgroundSubtractorMOG2()\n",
    "\n",
    "prev_frame_time = 0\n",
    "new_frame_time = 0\n",
    "average_fps_list = []\n",
    "\n",
    "frameWidth = 440\n",
    "frameHeight = 440\n",
    "vc.set(3, frameWidth)\n",
    "vc.set(4, frameHeight)\n",
    "\n",
    "# cv2.namedWindow(\"Parameters\")\n",
    "# cv2.resizeWindow(\"Parameters\",640,240)\n",
    "# cv2.createTrackbar(\"alpha\",\"Parameters\", 255, 255, empty)\n",
    "# cv2.createTrackbar(\"beta\",\"Parameters\", 197, 255, empty)\n",
    "\n",
    "def empty(a):\n",
    "  pass\n",
    "\n",
    "if (vc.isOpened()== False): \n",
    "  print(\"Error opening video  file\")\n",
    "\n",
    "while(vc.isOpened()):\n",
    "    rval, frame = vc.read()\n",
    "    \n",
    "    if rval == True:\n",
    "        #Insert Code Here\n",
    "\n",
    "        fgmask = fgbg.apply(frame)\n",
    "        \n",
    "        #Applying Gaussian Filter\n",
    "        imgBlur = cv2.GaussianBlur(fgmask,(7,7), 1)\n",
    "\n",
    "        # Median Blur\n",
    "        median = cv2.medianBlur(frame, 7)\n",
    "\n",
    "        bilateral = cv2.bilateralFilter(fgmask, 9, 75, 75)\n",
    "\n",
    "        # #Adjusting contrast levels (issue was that the original image was so dim it could not be seen as mentioned during a warning)\n",
    "        # alpha = cv2.getTrackbarPos(\"alpha\", \"Parameters\")\n",
    "        # beta = cv2.getTrackbarPos(\"beta\", \"Parameters\")\n",
    "        # contrast_imageBlur = alpha*imgBlur+beta\n",
    "\n",
    "        \n",
    "        # denoising = cv2.fastNlMeansDenoising(fgmask,None,10,7,21)\n",
    "     \n",
    "        cv2.imshow('normal frame', frame)\n",
    "        # cv2.imshow('FGmask', fgmask)\n",
    "        cv2.imshow('Gaussian filter', imgBlur)\n",
    "        # cv2.imshow('Denoising algorithm', denoising)\n",
    "        cv2.imshow(\"Median filtering\", median)\n",
    "        cv2.imshow('Bilateral filter ', bilateral)\n",
    "\n",
    "        # Press Q on keyboard to  exit\n",
    "        if cv2.waitKey(frame_rate) & 0xFF == ord('q'): #original waitkey is 25\n",
    "            break\n",
    "    \n",
    "    #Break out of loop if video is done\n",
    "    else:\n",
    "        break  \n",
    "\n",
    "vc.release() #Release the video capture object\n",
    "\n",
    "# Close window\n",
    "# cv2.destroyWindow(\"normal frame\")\n",
    "# cv2.destroyWindow(\"FGmask\")\n",
    "cv2.destroyAllWindows()"
   ]
  },
  {
   "cell_type": "markdown",
   "metadata": {},
   "source": [
    "Denoising"
   ]
  },
  {
   "cell_type": "code",
   "execution_count": null,
   "metadata": {},
   "outputs": [],
   "source": []
  },
  {
   "cell_type": "markdown",
   "metadata": {},
   "source": [
    "Combintations of Background Subtraction + Denoising"
   ]
  }
 ],
 "metadata": {
  "kernelspec": {
   "display_name": "Python 3.8.13 ('clarius')",
   "language": "python",
   "name": "python3"
  },
  "language_info": {
   "codemirror_mode": {
    "name": "ipython",
    "version": 3
   },
   "file_extension": ".py",
   "mimetype": "text/x-python",
   "name": "python",
   "nbconvert_exporter": "python",
   "pygments_lexer": "ipython3",
   "version": "3.8.13"
  },
  "orig_nbformat": 4,
  "vscode": {
   "interpreter": {
    "hash": "9962539669d5dbe9522d46f218cca01fd3b7ad23018b1c5959dcfe17c72706ce"
   }
  }
 },
 "nbformat": 4,
 "nbformat_minor": 2
}
